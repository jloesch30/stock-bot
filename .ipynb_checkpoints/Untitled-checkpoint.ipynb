{
 "cells": [
  {
   "cell_type": "code",
   "execution_count": 11,
   "id": "applicable-danish",
   "metadata": {
    "ExecuteTime": {
     "end_time": "2021-02-14T19:31:57.638814Z",
     "start_time": "2021-02-14T19:31:57.634855Z"
    }
   },
   "outputs": [],
   "source": [
    "x = ['$watch', 'add', 'APPL,GOLD,DOGE-USD']"
   ]
  },
  {
   "cell_type": "code",
   "execution_count": 2,
   "id": "native-trade",
   "metadata": {
    "ExecuteTime": {
     "end_time": "2021-02-14T19:26:56.466154Z",
     "start_time": "2021-02-14T19:26:56.461895Z"
    }
   },
   "outputs": [],
   "source": [
    "y = ['$watch', 'add', 'APPL,', 'GOLD,', 'DOGE-USD']"
   ]
  },
  {
   "cell_type": "code",
   "execution_count": 14,
   "id": "outdoor-moses",
   "metadata": {
    "ExecuteTime": {
     "end_time": "2021-02-14T19:32:05.796759Z",
     "start_time": "2021-02-14T19:32:05.794499Z"
    }
   },
   "outputs": [],
   "source": [
    "tickers_x = x[2:]"
   ]
  },
  {
   "cell_type": "code",
   "execution_count": 15,
   "id": "minor-capability",
   "metadata": {
    "ExecuteTime": {
     "end_time": "2021-02-14T19:32:06.136684Z",
     "start_time": "2021-02-14T19:32:06.133191Z"
    }
   },
   "outputs": [
    {
     "data": {
      "text/plain": [
       "['APPL']"
      ]
     },
     "execution_count": 15,
     "metadata": {},
     "output_type": "execute_result"
    }
   ],
   "source": [
    "tickers_x"
   ]
  },
  {
   "cell_type": "code",
   "execution_count": 7,
   "id": "greenhouse-granny",
   "metadata": {
    "ExecuteTime": {
     "end_time": "2021-02-14T19:27:51.501712Z",
     "start_time": "2021-02-14T19:27:51.497675Z"
    }
   },
   "outputs": [],
   "source": [
    "tickers_y = y[2:]"
   ]
  },
  {
   "cell_type": "code",
   "execution_count": 8,
   "id": "dress-advancement",
   "metadata": {
    "ExecuteTime": {
     "end_time": "2021-02-14T19:27:54.577456Z",
     "start_time": "2021-02-14T19:27:54.570955Z"
    }
   },
   "outputs": [
    {
     "data": {
      "text/plain": [
       "['APPL,', 'GOLD,', 'DOGE-USD']"
      ]
     },
     "execution_count": 8,
     "metadata": {},
     "output_type": "execute_result"
    }
   ],
   "source": [
    "tickers_y"
   ]
  },
  {
   "cell_type": "code",
   "execution_count": 16,
   "id": "destroyed-immigration",
   "metadata": {
    "ExecuteTime": {
     "end_time": "2021-02-14T19:32:08.611837Z",
     "start_time": "2021-02-14T19:32:08.609108Z"
    }
   },
   "outputs": [],
   "source": [
    "if len(tickers_x) == 1:\n",
    "    item = tickers_x[0]\n",
    "    items_lst = item.split(',')"
   ]
  },
  {
   "cell_type": "code",
   "execution_count": 17,
   "id": "disturbed-nickel",
   "metadata": {
    "ExecuteTime": {
     "end_time": "2021-02-14T19:32:08.995164Z",
     "start_time": "2021-02-14T19:32:08.991635Z"
    }
   },
   "outputs": [
    {
     "data": {
      "text/plain": [
       "['APPL']"
      ]
     },
     "execution_count": 17,
     "metadata": {},
     "output_type": "execute_result"
    }
   ],
   "source": [
    "items_lst"
   ]
  },
  {
   "cell_type": "code",
   "execution_count": null,
   "id": "judicial-ireland",
   "metadata": {},
   "outputs": [],
   "source": []
  }
 ],
 "metadata": {
  "kernelspec": {
   "display_name": "Python 3.8.3 64-bit",
   "language": "python",
   "name": "python38364bit2d3eae58a0944027bf77eb63f9f9a841"
  },
  "language_info": {
   "codemirror_mode": {
    "name": "ipython",
    "version": 3
   },
   "file_extension": ".py",
   "mimetype": "text/x-python",
   "name": "python",
   "nbconvert_exporter": "python",
   "pygments_lexer": "ipython3",
   "version": "3.8.3"
  }
 },
 "nbformat": 4,
 "nbformat_minor": 5
}
